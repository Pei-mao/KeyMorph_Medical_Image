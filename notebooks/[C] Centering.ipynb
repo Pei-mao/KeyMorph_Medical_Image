{
 "cells": [
  {
   "cell_type": "markdown",
   "metadata": {},
   "source": [
    "### Centering\n"
   ]
  },
  {
   "cell_type": "markdown",
   "metadata": {},
   "source": [
    "Center using translation each subject MRI to his/her T2 scan. During training, we randomly introduce affine augmentation to the dataset. This preprocessing step ensure that the brain stays within the volume given the affine augmentation we introduce. It also helps during the pretraining step of our algorithm. \n",
    "\n",
    "The script below creates a folder `../data/centered_IXI/` containining 6 folders `T1`, `T2`, `PD`, `T1_mask`, , `T2_mask` and `PD_mask`. Each brain has the following naming convention: subject `../data/centered_IXI/T1/IXI261-HH-1704.nii` will have a corresponding mask `../data/centered_IXI/T1_mask/IXI261-HH-1704_mask.nii.gz` and so on..."
   ]
  },
  {
   "cell_type": "code",
   "execution_count": null,
   "metadata": {},
   "outputs": [],
   "source": [
    "import os\n",
    "import ants\n",
    "import SimpleITK as sitk\n",
    "from pathlib import Path\n",
    "from tqdm.notebook import tqdm\n",
    "\n",
    "PATH = '../data/processed_IXI/'\n",
    "SAVED_PATH = '../data/centered_IXI/'\n",
    "Path(SAVED_PATH).mkdir(parents=True, exist_ok=True)\n",
    "Path(SAVED_PATH+'/T1/').mkdir(parents=True, exist_ok=True)\n",
    "Path(SAVED_PATH+'/T1_mask/').mkdir(parents=True, exist_ok=True)\n",
    "Path(SAVED_PATH+'/T2/').mkdir(parents=True, exist_ok=True)\n",
    "Path(SAVED_PATH+'/T2_mask/').mkdir(parents=True, exist_ok=True)\n",
    "Path(SAVED_PATH+'/PD/').mkdir(parents=True, exist_ok=True)\n",
    "Path(SAVED_PATH+'/PD_mask/').mkdir(parents=True, exist_ok=True)\n",
    "\n",
    "directories = os.listdir(PATH+'T2/')\n",
    "\n",
    "for mod in ['T1', 'PD', 'T2']:\n",
    "    print('Processing {}'.format(mod))\n",
    "    for i, d in tqdm(enumerate(directories)):\n",
    "        if 'ipynb_checkpoints' in d:\n",
    "            continue\n",
    "            \n",
    "        \"\"\"STATIC\"\"\"\n",
    "        itk = sitk.ReadImage(PATH+'T2/'+d)\n",
    "        target = sitk.GetArrayFromImage(itk)\n",
    "        itk = sitk.ReadImage(PATH+'T2_mask/'+d[:-4]+'_mask.nii.gz')\n",
    "        target_mask = sitk.GetArrayFromImage(itk)        \n",
    "        static = ants.from_numpy(target*target_mask)    \n",
    "        \n",
    "        if mod == 'T2':\n",
    "            itkimage = sitk.GetImageFromArray(target.astype('float32'))\n",
    "            sitk.WriteImage(itkimage, \n",
    "                            SAVED_PATH+'/{}/'.format(mod)+d)\n",
    "            itkimage = sitk.GetImageFromArray(target_mask.astype('float32'))\n",
    "            sitk.WriteImage(itkimage, \n",
    "                            SAVED_PATH+'/{}_mask/'.format(mod)+d[:-4]+'_mask.nii.gz')            \n",
    "            continue\n",
    "                 \n",
    "        \"\"\"MOVING\"\"\"\n",
    "        itk = sitk.ReadImage(PATH+'{}/'.format(mod)+d)\n",
    "        mr = sitk.GetArrayFromImage(itk)\n",
    "\n",
    "        itk = sitk.ReadImage(PATH+'{}_mask/'.format(mod)+d[:-4]+'_mask.nii.gz')\n",
    "        mask = sitk.GetArrayFromImage(itk)\n",
    "\n",
    "        moving = ants.from_numpy(mr*mask)\n",
    "        moving_mr = ants.from_numpy(mr)\n",
    "        moving_mask = ants.from_numpy(mask.astype('float64'))\n",
    "\n",
    "        mytx = ants.registration(fixed=static,\n",
    "                                 moving=moving, \n",
    "                                 type_of_transform ='Translation',\n",
    "                                 verbose=False)\n",
    "\n",
    "        aligned_mr = ants.apply_transforms(fixed=static,\n",
    "                                           moving=moving_mr,\n",
    "                                           interpolator='linear',\n",
    "                                           transformlist=mytx['fwdtransforms']).numpy().astype('float32')\n",
    "\n",
    "        aligned_mask = ants.apply_transforms(fixed=static,\n",
    "                                            moving=moving_mask,\n",
    "                                            interpolator='genericLabel',\n",
    "                                            transformlist=mytx['fwdtransforms']).numpy().astype('int32')\n",
    "\n",
    "\n",
    "        itkimage = sitk.GetImageFromArray(aligned_mr)\n",
    "        sitk.WriteImage(itkimage, \n",
    "                        SAVED_PATH+'/{}/'.format(mod)+d)\n",
    "\n",
    "        itkimage = sitk.GetImageFromArray(aligned_mask)\n",
    "        sitk.WriteImage(itkimage, \n",
    "                        SAVED_PATH+'/{}_mask/'.format(mod)+d[:-4]+'_mask.nii.gz')"
   ]
  }
 ],
 "metadata": {
  "kernelspec": {
   "display_name": "Python 3 (ipykernel)",
   "language": "python",
   "name": "python3"
  },
  "language_info": {
   "codemirror_mode": {
    "name": "ipython",
    "version": 3
   },
   "file_extension": ".py",
   "mimetype": "text/x-python",
   "name": "python",
   "nbconvert_exporter": "python",
   "pygments_lexer": "ipython3",
   "version": "3.8.12"
  }
 },
 "nbformat": 4,
 "nbformat_minor": 2
}
