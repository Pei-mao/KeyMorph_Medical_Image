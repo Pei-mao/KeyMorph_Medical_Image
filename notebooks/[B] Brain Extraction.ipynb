{
 "cells": [
  {
   "cell_type": "markdown",
   "id": "d43bffa2",
   "metadata": {},
   "source": [
    "### Brain Extraction"
   ]
  },
  {
   "cell_type": "markdown",
   "id": "37002366",
   "metadata": {},
   "source": [
    "Once the data is downloaded, this script is used extract the brain from the skull. We used Deep_MRI_brain_extraction [Deep MRI Brain Extraction](https://github.com/GUR9000/Deep_MRI_brain_extraction)\n",
    "(commit version 7c2db1e). However, the algorithm relies on Theano, which can cause compatibility issue with the packages we use for KeyMorph. For this demo, we trained a separate brain extractor based on the mask from Deep_MRI_brain_extraction. If you want to recreate the original mask, feel free to follow the instruction in their repo. \n",
    "\n",
    "The scripts within this notebook creates 3 folder `T1_mask`, `T2_mask` and `PD_mask` within `../data/processed_IXI/`. Each mask has the following naming convention `IXI###-HOSPITAL-####_mask.nii.gz`. For example, subject `../data/processed_IXI/T1/IXI261-HH-1704.nii` will have a corresponding mask  `../data/processed_IXI/T1_mask/IXI261-HH-1704_mask.nii.gz`."
   ]
  },
  {
   "cell_type": "markdown",
   "id": "ad8c3c64",
   "metadata": {},
   "source": [
    "### Import Libraries and Define Variables\n"
   ]
  },
  {
   "cell_type": "code",
   "execution_count": null,
   "id": "cf462832",
   "metadata": {},
   "outputs": [],
   "source": [
    "import sys\n",
    "sys.path.insert(0, '../')\n",
    "\n",
    "from pathlib import Path\n",
    "from tqdm.notebook import tqdm\n",
    "import torch.nn.functional as F\n",
    "from torchio.transforms import Lambda\n",
    "from keymorph.data import ixi as loader\n",
    "from keymorph.model import Simple_Unet, clean_mask\n",
    "\n",
    "\n",
    "import os\n",
    "import torch\n",
    "import torchio as tio\n",
    "import SimpleITK as sitk\n",
    "\n",
    "\"\"\"Create Folder\"\"\"\n",
    "Path('../data/processed_IXI/T1_mask/').mkdir(parents=True, exist_ok=True)\n",
    "Path('../data/processed_IXI/T2_mask/').mkdir(parents=True, exist_ok=True)\n",
    "Path('../data/processed_IXI/PD_mask/').mkdir(parents=True, exist_ok=True)\n",
    "\n",
    "\"\"\"Define Model\"\"\"\n",
    "enc_nf = [4, 8, 16, 32]\n",
    "dec_nf = [32, 16, 8, 4]    \n",
    "u1 = Simple_Unet(input_ch=1,\n",
    "                 out_ch=1,\n",
    "                 use_in= False,\n",
    "                 enc_nf= enc_nf,\n",
    "                 dec_nf= dec_nf)\n",
    "\n",
    "u1 = torch.nn.DataParallel(u1)\n",
    "u1.cuda()\n",
    "\n",
    "weights = torch.load('../weights/brain_extraction_model.pth.tar')['u1']\n",
    "u1.load_state_dict(weights)"
   ]
  },
  {
   "cell_type": "markdown",
   "id": "a63b24f4",
   "metadata": {},
   "source": [
    "### Load data"
   ]
  },
  {
   "cell_type": "code",
   "execution_count": null,
   "id": "36ff9ea4",
   "metadata": {},
   "outputs": [],
   "source": [
    "directory = '../data/processed_IXI/'\n",
    "\n",
    "\"\"\"Load data\"\"\"\n",
    "transform = Lambda(lambda x: x.permute(0,1,3,2))\n",
    "N = len(os.listdir(directory+'/T1/'))\n",
    "_, t1_loader = loader.create_simple(directory,\n",
    "                                    modality='T1',\n",
    "                                    transform=transform)\n",
    "\n",
    "N = len(os.listdir(directory+'/T2/'))\n",
    "_, t2_loader = loader.create_simple(directory,\n",
    "                                    modality='T2',\n",
    "                                    transform=transform)\n",
    "\n",
    "N = len(os.listdir(directory+'/PD/'))\n",
    "_, pd_loader = loader.create_simple(directory,\n",
    "                                    modality='PD',\n",
    "                                    transform=transform)"
   ]
  },
  {
   "cell_type": "markdown",
   "id": "ef6e75be",
   "metadata": {},
   "source": [
    "### Predict"
   ]
  },
  {
   "cell_type": "code",
   "execution_count": null,
   "id": "145ec656",
   "metadata": {},
   "outputs": [],
   "source": [
    "loaders = [t1_loader, t2_loader, pd_loader]\n",
    "modalities = ['T1','T2','PD']\n",
    "for m, loader in enumerate(loaders):\n",
    "    print('Processing {}'.format(modalities[m]))\n",
    "    \n",
    "    for i, data in tqdm(enumerate(loader)):\n",
    "        name = data['mri']['stem'][0]\n",
    "        \n",
    "        x = data['mri'][tio.DATA]\n",
    "        x = F.interpolate(x, size=(128,128,128), mode='trilinear', align_corners=False)      \n",
    "        x = x.cuda()\n",
    "        \n",
    "        mask = u1(x)\n",
    "        mask = F.interpolate(mask, scale_factor=2, mode='trilinear', align_corners=False)\n",
    "        mask = (mask>=0.5).float()\n",
    "        mask = mask.squeeze().permute(1,2,0)\n",
    "        mask = mask.detach().cpu().numpy().astype('uint8')\n",
    "        mask = clean_mask(mask, 0.2)\n",
    "\n",
    "        itkimage = sitk.GetImageFromArray(mask)\n",
    "        sitk.WriteImage(itkimage, \n",
    "                        '../data/processed_IXI/{}_mask/{}_mask.nii.gz'.format(modalities[m],\n",
    "                                                                              name))"
   ]
  }
 ],
 "metadata": {
  "kernelspec": {
   "display_name": "Python 3 (ipykernel)",
   "language": "python",
   "name": "python3"
  },
  "language_info": {
   "codemirror_mode": {
    "name": "ipython",
    "version": 3
   },
   "file_extension": ".py",
   "mimetype": "text/x-python",
   "name": "python",
   "nbconvert_exporter": "python",
   "pygments_lexer": "ipython3",
   "version": "3.8.12"
  }
 },
 "nbformat": 4,
 "nbformat_minor": 5
}
